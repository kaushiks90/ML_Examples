{
 "cells": [
  {
   "cell_type": "markdown",
   "metadata": {},
   "source": [
    "What is machine learning?\n",
    "One definition: \"Machine learning is the semi-automated extraction of knowledge from data\"\n",
    "    \n",
    "Knowledge from data: Starts with a question that might be answerable using data\n",
    "Automated extraction: A computer provides the insight\n",
    "Semi-automated: Requires many smart decisions by a human\n",
    "    \n",
    "    \n",
    "    \n",
    "What are the two main categories of machine learning?\n",
    "\n",
    "Supervised learning: Making predictions using data\n",
    "\n",
    "Example: Is a given email \"spam\" or \"ham\"?\n",
    "There is an outcome we are trying to predict\n",
    "\n",
    "Unsupervised learning: Extracting structure from data\n",
    "    \n",
    "Example: Segment grocery store shoppers into clusters that exhibit similar behaviors\n",
    "There is no \"right answer\"\n",
    "\n"
   ]
  },
  {
   "cell_type": "markdown",
   "metadata": {},
   "source": [
    "How does machine learning \"work\"?\n",
    "High-level steps of supervised learning:\n",
    "First, train a machine learning model using labeled data\n",
    "\n",
    "\"Labeled data\" has been labeled with the outcome\n",
    "\n",
    "\"Machine learning model\" learns the relationship between the attributes of the data and its outcome\n",
    "Then, make predictions on new data for which the label is unknown\n",
    "\n",
    "The primary goal of supervised learning is to build a model that \"generalizes\": It accurately predicts the future rather than the past!"
   ]
  }
 ],
 "metadata": {
  "kernelspec": {
   "display_name": "Python 2",
   "language": "python",
   "name": "python2"
  },
  "language_info": {
   "codemirror_mode": {
    "name": "ipython",
    "version": 2
   },
   "file_extension": ".py",
   "mimetype": "text/x-python",
   "name": "python",
   "nbconvert_exporter": "python",
   "pygments_lexer": "ipython2",
   "version": "2.7.13"
  }
 },
 "nbformat": 4,
 "nbformat_minor": 2
}
